{
 "cells": [
  {
   "cell_type": "code",
   "execution_count": 1,
   "id": "aec8d7eb",
   "metadata": {
    "_cell_guid": "b1076dfc-b9ad-4769-8c92-a6c4dae69d19",
    "_uuid": "8f2839f25d086af736a60e9eeb907d3b93b6e0e5",
    "execution": {
     "iopub.execute_input": "2023-08-03T09:06:48.018620Z",
     "iopub.status.busy": "2023-08-03T09:06:48.017772Z",
     "iopub.status.idle": "2023-08-03T09:06:50.201127Z",
     "shell.execute_reply": "2023-08-03T09:06:50.199934Z"
    },
    "papermill": {
     "duration": 2.190275,
     "end_time": "2023-08-03T09:06:50.203540",
     "exception": false,
     "start_time": "2023-08-03T09:06:48.013265",
     "status": "completed"
    },
    "tags": []
   },
   "outputs": [
    {
     "name": "stderr",
     "output_type": "stream",
     "text": [
      "/tmp/ipykernel_20/3530840875.py:34: FutureWarning: The default value of numeric_only in DataFrame.mean is deprecated. In a future version, it will default to False. In addition, specifying 'numeric_only=None' is deprecated. Select only valid columns or specify the value of numeric_only to silence this warning.\n",
      "  df_filled = df_cleaned_nan.fillna(df_cleaned_nan.mean())\n",
      "/tmp/ipykernel_20/3530840875.py:35: FutureWarning: The default value of numeric_only in DataFrame.mean is deprecated. In a future version, it will default to False. In addition, specifying 'numeric_only=None' is deprecated. Select only valid columns or specify the value of numeric_only to silence this warning.\n",
      "  train_mean = df_filled.mean()\n"
     ]
    }
   ],
   "source": [
    "# This Python 3 environment comes with many helpful analytics libraries installed\n",
    "# It is defined by the kaggle/python Docker image: https://github.com/kaggle/docker-python\n",
    "# For example, here's several helpful packages to load\n",
    "\n",
    "import numpy as np # linear algebra\n",
    "import pandas as pd # data processing, CSV file I/O (e.g. pd.read_csv)\n",
    "\n",
    "# Input data files are available in the read-only \"../input/\" directory\n",
    "# For example, running this (by clicking run or pressing Shift+Enter) will list all files under the input directory\n",
    "\n",
    "# import os\n",
    "# for dirname, _, filenames in os.walk('/kaggle/input'):\n",
    "#     for filename in filenames:\n",
    "#         print(os.path.join(dirname, filename))\n",
    "\n",
    "# You can write up to 20GB to the current directory (/kaggle/working/) that gets preserved as output when you create a version using \"Save & Run All\" \n",
    "# You can also write temporary files to /kaggle/temp/, but they won't be saved outside of the current session\n",
    "\n",
    "file_path = '/kaggle/input/digico-ai/train.csv'\n",
    "df = pd.read_csv(file_path)\n",
    "\n",
    "column_ratio = df.apply(lambda x: x.value_counts().max() / len(df))\n",
    "columns_to_drop_equal = column_ratio[column_ratio >= 0.95].index\n",
    "# print(columns_to_drop)\n",
    "df_cleaned_equal = df.drop(columns=columns_to_drop_equal, inplace=False)\n",
    "\n",
    "nan_counts = df_cleaned_equal.isnull().sum()\n",
    "columns_to_drop_nan = nan_counts[nan_counts >= 0.4 * len(df)].index\n",
    "# print(columns_to_drop_nan)\n",
    "df_cleaned_nan = df_cleaned_equal.drop(columns=columns_to_drop_nan, inplace=False)\n",
    "# df_cleaned_nan.head()\n",
    "# print(df_cleaned_nan.isnull().sum())\n",
    "# print(df_cleaned_nan.mean())\n",
    "df_filled = df_cleaned_nan.fillna(df_cleaned_nan.mean())\n",
    "train_mean = df_filled.mean()\n"
   ]
  },
  {
   "cell_type": "code",
   "execution_count": 2,
   "id": "20d5e539",
   "metadata": {
    "execution": {
     "iopub.execute_input": "2023-08-03T09:06:50.210561Z",
     "iopub.status.busy": "2023-08-03T09:06:50.210170Z",
     "iopub.status.idle": "2023-08-03T09:06:52.094619Z",
     "shell.execute_reply": "2023-08-03T09:06:52.093546Z"
    },
    "papermill": {
     "duration": 1.891044,
     "end_time": "2023-08-03T09:06:52.097391",
     "exception": false,
     "start_time": "2023-08-03T09:06:50.206347",
     "status": "completed"
    },
    "tags": []
   },
   "outputs": [
    {
     "name": "stderr",
     "output_type": "stream",
     "text": [
      "/opt/conda/lib/python3.10/site-packages/scipy/__init__.py:146: UserWarning: A NumPy version >=1.16.5 and <1.23.0 is required for this version of SciPy (detected version 1.23.5\n",
      "  warnings.warn(f\"A NumPy version >={np_minversion} and <{np_maxversion}\"\n"
     ]
    }
   ],
   "source": [
    "df_filled['Label'] = df_filled['Label'].replace({'normal':0, 'defect':1})\n",
    "\n",
    "from sklearn.preprocessing import MinMaxScaler\n",
    "from sklearn.preprocessing import StandardScaler\n",
    "\n",
    "input_column_names = df_filled.columns[1:].tolist()\n",
    "scaler= StandardScaler()\n",
    "df_filled[input_column_names] = scaler.fit_transform(df_filled[input_column_names])\n",
    "# # 학습 데이터에 대해 fit_transform 수행\n",
    "# scaler = StandardScaler()\n",
    "# df_train[columns_to_normalize] = scaler.fit_transform(df_train[columns_to_normalize])\n",
    "\n",
    "# # 예측 데이터에 대해 transform만 수행\n",
    "# df_test[columns_to_normalize] = scaler.transform(df_test[columns_to_normalize])\n"
   ]
  },
  {
   "cell_type": "code",
   "execution_count": 3,
   "id": "5242b6ad",
   "metadata": {
    "execution": {
     "iopub.execute_input": "2023-08-03T09:06:52.104830Z",
     "iopub.status.busy": "2023-08-03T09:06:52.104053Z",
     "iopub.status.idle": "2023-08-03T09:07:05.487530Z",
     "shell.execute_reply": "2023-08-03T09:07:05.486125Z"
    },
    "papermill": {
     "duration": 13.390032,
     "end_time": "2023-08-03T09:07:05.490127",
     "exception": false,
     "start_time": "2023-08-03T09:06:52.100095",
     "status": "completed"
    },
    "tags": []
   },
   "outputs": [
    {
     "name": "stderr",
     "output_type": "stream",
     "text": [
      "/opt/conda/lib/python3.10/site-packages/tensorflow_io/python/ops/__init__.py:98: UserWarning: unable to load libtensorflow_io_plugins.so: unable to open file: libtensorflow_io_plugins.so, from paths: ['/opt/conda/lib/python3.10/site-packages/tensorflow_io/python/ops/libtensorflow_io_plugins.so']\n",
      "caused by: ['/opt/conda/lib/python3.10/site-packages/tensorflow_io/python/ops/libtensorflow_io_plugins.so: undefined symbol: _ZN3tsl6StatusC1EN10tensorflow5error4CodeESt17basic_string_viewIcSt11char_traitsIcEENS_14SourceLocationE']\n",
      "  warnings.warn(f\"unable to load libtensorflow_io_plugins.so: {e}\")\n",
      "/opt/conda/lib/python3.10/site-packages/tensorflow_io/python/ops/__init__.py:104: UserWarning: file system plugins are not loaded: unable to open file: libtensorflow_io.so, from paths: ['/opt/conda/lib/python3.10/site-packages/tensorflow_io/python/ops/libtensorflow_io.so']\n",
      "caused by: ['/opt/conda/lib/python3.10/site-packages/tensorflow_io/python/ops/libtensorflow_io.so: undefined symbol: _ZTVN10tensorflow13GcsFileSystemE']\n",
      "  warnings.warn(f\"file system plugins are not loaded: {e}\")\n"
     ]
    },
    {
     "name": "stdout",
     "output_type": "stream",
     "text": [
      "Epoch 1/10\n",
      "100/100 [==============================] - 2s 5ms/step - loss: 0.1835 - accuracy: 0.9341 - val_loss: 0.0870 - val_accuracy: 0.9588\n",
      "Epoch 2/10\n",
      "100/100 [==============================] - 0s 2ms/step - loss: 0.0415 - accuracy: 0.9878 - val_loss: 0.0330 - val_accuracy: 0.9925\n",
      "Epoch 3/10\n",
      "100/100 [==============================] - 0s 2ms/step - loss: 0.0093 - accuracy: 0.9962 - val_loss: 0.0407 - val_accuracy: 0.9875\n",
      "Epoch 4/10\n",
      "100/100 [==============================] - 0s 2ms/step - loss: 0.0035 - accuracy: 0.9997 - val_loss: 0.0364 - val_accuracy: 0.9937\n",
      "Epoch 5/10\n",
      "100/100 [==============================] - 0s 3ms/step - loss: 6.9689e-04 - accuracy: 1.0000 - val_loss: 0.0388 - val_accuracy: 0.9937\n",
      "Epoch 6/10\n",
      "100/100 [==============================] - 0s 2ms/step - loss: 3.5326e-04 - accuracy: 1.0000 - val_loss: 0.0408 - val_accuracy: 0.9937\n",
      "Epoch 7/10\n",
      "100/100 [==============================] - 0s 3ms/step - loss: 2.1927e-04 - accuracy: 1.0000 - val_loss: 0.0423 - val_accuracy: 0.9937\n",
      "Epoch 8/10\n",
      "100/100 [==============================] - 0s 3ms/step - loss: 1.4861e-04 - accuracy: 1.0000 - val_loss: 0.0438 - val_accuracy: 0.9937\n",
      "Epoch 9/10\n",
      "100/100 [==============================] - 0s 3ms/step - loss: 1.0629e-04 - accuracy: 1.0000 - val_loss: 0.0453 - val_accuracy: 0.9937\n",
      "Epoch 10/10\n",
      "100/100 [==============================] - 0s 3ms/step - loss: 7.8438e-05 - accuracy: 1.0000 - val_loss: 0.0466 - val_accuracy: 0.9937\n",
      "32/32 [==============================] - 0s 2ms/step - loss: 0.0386 - accuracy: 0.9910\n",
      "Test accuracy: 0.9909999966621399\n"
     ]
    }
   ],
   "source": [
    "import tensorflow as tf\n",
    "from tensorflow import keras\n",
    "from sklearn.model_selection import train_test_split\n",
    "\n",
    "X = df_filled.iloc[:, 1:].values\n",
    "y = df_filled.iloc[:, 0].values\n",
    "\n",
    "X_train, X_test, y_train, y_test = train_test_split(X, y, \n",
    "                                                    test_size=0.2, \n",
    "                                                    random_state=42)\n",
    "\n",
    "model = keras.Sequential([\n",
    "    keras.layers.Dense(64, activation='relu', input_shape=(X.shape[1],)),\n",
    "    keras.layers.Dense(64, activation='relu'),\n",
    "    keras.layers.Dense(64, activation='relu'),\n",
    "    keras.layers.Dense(1, activation='sigmoid')\n",
    "])\n",
    "\n",
    "# 모델 컴파일\n",
    "model.compile(optimizer='adam', loss='binary_crossentropy', metrics=['accuracy'])\n",
    "\n",
    "# 모델 학습\n",
    "model.fit(X_train, y_train, epochs=10, batch_size=32, validation_split=0.2)\n",
    "\n",
    "# 모델 평가\n",
    "test_loss, test_acc = model.evaluate(X_test, y_test)\n",
    "print(\"Test accuracy:\", test_acc)"
   ]
  },
  {
   "cell_type": "code",
   "execution_count": 4,
   "id": "9683f144",
   "metadata": {
    "execution": {
     "iopub.execute_input": "2023-08-03T09:07:05.505867Z",
     "iopub.status.busy": "2023-08-03T09:07:05.505447Z",
     "iopub.status.idle": "2023-08-03T09:07:07.978454Z",
     "shell.execute_reply": "2023-08-03T09:07:07.977414Z"
    },
    "papermill": {
     "duration": 2.483423,
     "end_time": "2023-08-03T09:07:07.980836",
     "exception": false,
     "start_time": "2023-08-03T09:07:05.497413",
     "status": "completed"
    },
    "tags": []
   },
   "outputs": [
    {
     "name": "stdout",
     "output_type": "stream",
     "text": [
      "180/180 [==============================] - 0s 1ms/step\n"
     ]
    }
   ],
   "source": [
    "file_path_ = '/kaggle/input/digico-ai/test.csv'\n",
    "df_ = pd.read_csv(file_path_)\n",
    "# print(df_.isnull().sum())\n",
    "\n",
    "df_cleaned_equal_ = df_.drop(columns=columns_to_drop_equal, inplace=False)\n",
    "# print(df_cleaned_equal_)\n",
    "df_cleaned_nan_ = df_cleaned_equal_.drop(columns=columns_to_drop_nan, inplace=False)\n",
    "# print(df_cleaned_nan_)\n",
    "df_filled_ = df_cleaned_nan_.fillna(train_mean)\n",
    "# print(df_filled_)\n",
    "\n",
    "from sklearn.preprocessing import MinMaxScaler\n",
    "from sklearn.preprocessing import StandardScaler\n",
    "\n",
    "input_column_names = df_filled_.columns[0:].tolist()\n",
    "# print(input_column_names)\n",
    "df_filled_ = scaler.transform(df_filled_[input_column_names])\n",
    "# # 학습 데이터에 대해 fit_transform 수행\n",
    "# scaler = StandardScaler()\n",
    "# df_train[columns_to_normalize] = scaler.fit_transform(df_train[columns_to_normalize])\n",
    "\n",
    "# # 예측 데이터에 대해 transform만 수행\n",
    "# df_test[columns_to_normalize] = scaler.transform(df_test[columns_to_normalize])\n",
    "\n",
    "# X_pred = df_filled_.iloc[:,].values\n",
    "# print(X_pred)\n",
    "\n",
    "predictions = model.predict(df_filled_)\n",
    "indexs = list(range(0, len(predictions)))\n",
    "binary_predictions = (predictions > 0.5).astype(int)\n",
    "\n",
    "# print(len(indexs), \" \", len(binary_predictions.ravel()))\n",
    "results = pd.DataFrame({'ID': indexs, 'Target': binary_predictions.ravel()})\n",
    "results.to_csv('prediction_results.csv', index=False)"
   ]
  },
  {
   "cell_type": "code",
   "execution_count": null,
   "id": "09d17f67",
   "metadata": {
    "papermill": {
     "duration": 0.006704,
     "end_time": "2023-08-03T09:07:07.994715",
     "exception": false,
     "start_time": "2023-08-03T09:07:07.988011",
     "status": "completed"
    },
    "tags": []
   },
   "outputs": [],
   "source": []
  }
 ],
 "metadata": {
  "kernelspec": {
   "display_name": "Python 3",
   "language": "python",
   "name": "python3"
  },
  "language_info": {
   "codemirror_mode": {
    "name": "ipython",
    "version": 3
   },
   "file_extension": ".py",
   "mimetype": "text/x-python",
   "name": "python",
   "nbconvert_exporter": "python",
   "pygments_lexer": "ipython3",
   "version": "3.10.12"
  },
  "papermill": {
   "default_parameters": {},
   "duration": 33.328529,
   "end_time": "2023-08-03T09:07:10.483838",
   "environment_variables": {},
   "exception": null,
   "input_path": "__notebook__.ipynb",
   "output_path": "__notebook__.ipynb",
   "parameters": {},
   "start_time": "2023-08-03T09:06:37.155309",
   "version": "2.4.0"
  }
 },
 "nbformat": 4,
 "nbformat_minor": 5
}
