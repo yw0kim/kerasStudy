{
 "cells": [
  {
   "cell_type": "code",
   "execution_count": 1,
   "id": "4f1426ee",
   "metadata": {
    "_cell_guid": "b1076dfc-b9ad-4769-8c92-a6c4dae69d19",
    "_uuid": "8f2839f25d086af736a60e9eeb907d3b93b6e0e5",
    "execution": {
     "iopub.execute_input": "2023-08-04T09:04:41.863363Z",
     "iopub.status.busy": "2023-08-04T09:04:41.862825Z",
     "iopub.status.idle": "2023-08-04T09:04:44.160763Z",
     "shell.execute_reply": "2023-08-04T09:04:44.159459Z"
    },
    "papermill": {
     "duration": 2.306711,
     "end_time": "2023-08-04T09:04:44.163719",
     "exception": false,
     "start_time": "2023-08-04T09:04:41.857008",
     "status": "completed"
    },
    "tags": []
   },
   "outputs": [
    {
     "name": "stdout",
     "output_type": "stream",
     "text": [
      "Index(['v073', 'v074', 'v086', 'v110', 'v111', 'v112', 'v113', 'v158', 'v159',\n",
      "       'v221', 'v245', 'v246', 'v247', 'v248', 'v293', 'v294', 'v346', 'v347',\n",
      "       'v359', 'v383', 'v384', 'v385', 'v386', 'v493', 'v517', 'v518', 'v519',\n",
      "       'v520', 'v547', 'v548', 'v549', 'v550', 'v551', 'v552', 'v553', 'v554',\n",
      "       'v555', 'v556', 'v557', 'v558', 'v563', 'v564', 'v565', 'v566', 'v567',\n",
      "       'v568', 'v569', 'v570', 'v579', 'v580', 'v581', 'v582'],\n",
      "      dtype='object')\n"
     ]
    },
    {
     "name": "stderr",
     "output_type": "stream",
     "text": [
      "/tmp/ipykernel_20/1605336141.py:35: FutureWarning: The default value of numeric_only in DataFrame.mean is deprecated. In a future version, it will default to False. In addition, specifying 'numeric_only=None' is deprecated. Select only valid columns or specify the value of numeric_only to silence this warning.\n",
      "  df_filled = df_cleaned_nan.fillna(df_cleaned_nan.mean())\n",
      "/tmp/ipykernel_20/1605336141.py:36: FutureWarning: The default value of numeric_only in DataFrame.mean is deprecated. In a future version, it will default to False. In addition, specifying 'numeric_only=None' is deprecated. Select only valid columns or specify the value of numeric_only to silence this warning.\n",
      "  train_mean = df_filled.mean()\n"
     ]
    }
   ],
   "source": [
    "# This Python 3 environment comes with many helpful analytics libraries installed\n",
    "# It is defined by the kaggle/python Docker image: https://github.com/kaggle/docker-python\n",
    "# For example, here's several helpful packages to load\n",
    "\n",
    "import numpy as np # linear algebra\n",
    "import pandas as pd # data processing, CSV file I/O (e.g. pd.read_csv)\n",
    "\n",
    "# Input data files are available in the read-only \"../input/\" directory\n",
    "# For example, running this (by clicking run or pressing Shift+Enter) will list all files under the input directory\n",
    "\n",
    "# import os\n",
    "# for dirname, _, filenames in os.walk('/kaggle/input'):\n",
    "#     for filename in filenames:\n",
    "#         print(os.path.join(dirname, filename))\n",
    "\n",
    "# You can write up to 20GB to the current directory (/kaggle/working/) that gets preserved as output when you create a version using \"Save & Run All\" \n",
    "# You can also write temporary files to /kaggle/temp/, but they won't be saved outside of the current session\n",
    "\n",
    "file_path = '/kaggle/input/digico-ai/train.csv'\n",
    "df = pd.read_csv(file_path)\n",
    "\n",
    "column_ratio = df.apply(lambda x: x.value_counts().max() / len(df))\n",
    "columns_to_drop_equal = column_ratio[column_ratio >= 0.95].index\n",
    "# print(columns_to_drop)\n",
    "df_cleaned_equal = df.drop(columns=columns_to_drop_equal, inplace=False)\n",
    "\n",
    "nan_counts = df_cleaned_equal.isnull().sum()\n",
    "columns_to_drop_nan = nan_counts[nan_counts >= 0.1 * len(df)].index\n",
    "# columns_to_drop_nan = nan_counts[nan_counts > 1].index\n",
    "print(columns_to_drop_nan)\n",
    "df_cleaned_nan = df_cleaned_equal.drop(columns=columns_to_drop_nan, inplace=False)\n",
    "# df_cleaned_nan.head()\n",
    "# print(df_cleaned_nan.isnull().sum())\n",
    "# print(df_cleaned_nan.mean())\n",
    "df_filled = df_cleaned_nan.fillna(df_cleaned_nan.mean())\n",
    "train_mean = df_filled.mean()\n"
   ]
  },
  {
   "cell_type": "code",
   "execution_count": 2,
   "id": "7a9014e3",
   "metadata": {
    "execution": {
     "iopub.execute_input": "2023-08-04T09:04:44.172694Z",
     "iopub.status.busy": "2023-08-04T09:04:44.172200Z",
     "iopub.status.idle": "2023-08-04T09:04:46.158292Z",
     "shell.execute_reply": "2023-08-04T09:04:46.157197Z"
    },
    "papermill": {
     "duration": 1.993825,
     "end_time": "2023-08-04T09:04:46.161234",
     "exception": false,
     "start_time": "2023-08-04T09:04:44.167409",
     "status": "completed"
    },
    "tags": []
   },
   "outputs": [
    {
     "name": "stderr",
     "output_type": "stream",
     "text": [
      "/opt/conda/lib/python3.10/site-packages/scipy/__init__.py:146: UserWarning: A NumPy version >=1.16.5 and <1.23.0 is required for this version of SciPy (detected version 1.23.5\n",
      "  warnings.warn(f\"A NumPy version >={np_minversion} and <{np_maxversion}\"\n"
     ]
    }
   ],
   "source": [
    "df_filled['Label'] = df_filled['Label'].replace({'normal':0, 'defect':1})\n",
    "\n",
    "from sklearn.preprocessing import MinMaxScaler\n",
    "from sklearn.preprocessing import StandardScaler\n",
    "\n",
    "input_column_names = df_filled.columns[1:].tolist()\n",
    "scaler= StandardScaler()\n",
    "df_filled[input_column_names] = scaler.fit_transform(df_filled[input_column_names])\n",
    "# # 학습 데이터에 대해 fit_transform 수행\n",
    "# scaler = StandardScaler()\n",
    "# df_train[columns_to_normalize] = scaler.fit_transform(df_train[columns_to_normalize])\n",
    "\n",
    "# # 예측 데이터에 대해 transform만 수행\n",
    "# df_test[columns_to_normalize] = scaler.transform(df_test[columns_to_normalize])\n"
   ]
  },
  {
   "cell_type": "code",
   "execution_count": 3,
   "id": "aec243fd",
   "metadata": {
    "execution": {
     "iopub.execute_input": "2023-08-04T09:04:46.171176Z",
     "iopub.status.busy": "2023-08-04T09:04:46.170720Z",
     "iopub.status.idle": "2023-08-04T09:05:07.777297Z",
     "shell.execute_reply": "2023-08-04T09:05:07.776134Z"
    },
    "papermill": {
     "duration": 21.614757,
     "end_time": "2023-08-04T09:05:07.780161",
     "exception": false,
     "start_time": "2023-08-04T09:04:46.165404",
     "status": "completed"
    },
    "tags": []
   },
   "outputs": [
    {
     "name": "stderr",
     "output_type": "stream",
     "text": [
      "/opt/conda/lib/python3.10/site-packages/tensorflow_io/python/ops/__init__.py:98: UserWarning: unable to load libtensorflow_io_plugins.so: unable to open file: libtensorflow_io_plugins.so, from paths: ['/opt/conda/lib/python3.10/site-packages/tensorflow_io/python/ops/libtensorflow_io_plugins.so']\n",
      "caused by: ['/opt/conda/lib/python3.10/site-packages/tensorflow_io/python/ops/libtensorflow_io_plugins.so: undefined symbol: _ZN3tsl6StatusC1EN10tensorflow5error4CodeESt17basic_string_viewIcSt11char_traitsIcEENS_14SourceLocationE']\n",
      "  warnings.warn(f\"unable to load libtensorflow_io_plugins.so: {e}\")\n",
      "/opt/conda/lib/python3.10/site-packages/tensorflow_io/python/ops/__init__.py:104: UserWarning: file system plugins are not loaded: unable to open file: libtensorflow_io.so, from paths: ['/opt/conda/lib/python3.10/site-packages/tensorflow_io/python/ops/libtensorflow_io.so']\n",
      "caused by: ['/opt/conda/lib/python3.10/site-packages/tensorflow_io/python/ops/libtensorflow_io.so: undefined symbol: _ZTVN10tensorflow13GcsFileSystemE']\n",
      "  warnings.warn(f\"file system plugins are not loaded: {e}\")\n"
     ]
    },
    {
     "name": "stdout",
     "output_type": "stream",
     "text": [
      "Epoch 1/100\n",
      "100/100 [==============================] - 2s 7ms/step - loss: 0.1239 - accuracy: 0.9531 - val_loss: 0.0371 - val_accuracy: 0.9937\n",
      "Epoch 2/100\n",
      "100/100 [==============================] - 0s 4ms/step - loss: 0.0222 - accuracy: 0.9922 - val_loss: 0.0349 - val_accuracy: 0.9900\n",
      "Epoch 3/100\n",
      "100/100 [==============================] - 1s 5ms/step - loss: 0.0086 - accuracy: 0.9969 - val_loss: 0.0329 - val_accuracy: 0.9887\n",
      "Epoch 4/100\n",
      "100/100 [==============================] - 0s 5ms/step - loss: 0.0053 - accuracy: 0.9987 - val_loss: 0.1670 - val_accuracy: 0.9725\n",
      "Epoch 5/100\n",
      "100/100 [==============================] - 0s 5ms/step - loss: 0.0119 - accuracy: 0.9987 - val_loss: 0.0430 - val_accuracy: 0.9900\n",
      "Epoch 6/100\n",
      "100/100 [==============================] - 1s 5ms/step - loss: 0.0036 - accuracy: 0.9984 - val_loss: 0.0315 - val_accuracy: 0.9937\n",
      "Epoch 7/100\n",
      "100/100 [==============================] - 1s 5ms/step - loss: 0.0018 - accuracy: 0.9991 - val_loss: 0.0408 - val_accuracy: 0.9925\n",
      "Epoch 8/100\n",
      "100/100 [==============================] - 1s 5ms/step - loss: 0.0016 - accuracy: 0.9991 - val_loss: 0.0497 - val_accuracy: 0.9875\n",
      "Epoch 9/100\n",
      "100/100 [==============================] - 1s 5ms/step - loss: 0.0029 - accuracy: 0.9991 - val_loss: 0.0541 - val_accuracy: 0.9875\n",
      "Epoch 10/100\n",
      "100/100 [==============================] - 0s 5ms/step - loss: 0.0053 - accuracy: 0.9978 - val_loss: 0.0383 - val_accuracy: 0.9887\n",
      "Epoch 11/100\n",
      "100/100 [==============================] - 0s 4ms/step - loss: 9.5336e-04 - accuracy: 0.9994 - val_loss: 0.0422 - val_accuracy: 0.9900\n",
      "Epoch 11: early stopping\n",
      "32/32 [==============================] - 0s 2ms/step - loss: 0.0385 - accuracy: 0.9910\n",
      "Test accuracy: 0.9909999966621399\n"
     ]
    }
   ],
   "source": [
    "import tensorflow as tf\n",
    "from tensorflow import keras\n",
    "from sklearn.model_selection import train_test_split\n",
    "\n",
    "X = df_filled.iloc[:, 1:].values\n",
    "y = df_filled.iloc[:, 0].values\n",
    "\n",
    "X_train, X_test, y_train, y_test = train_test_split(X, y, \n",
    "                                                    test_size=0.2, \n",
    "                                                    random_state=42)\n",
    "\n",
    "model = keras.Sequential([\n",
    "    keras.layers.Dense(256, activation='relu', input_shape=(X.shape[1],)),\n",
    "    keras.layers.Dense(128, activation='relu'),\n",
    "    keras.layers.Dense(64, activation='relu'),\n",
    "    keras.layers.Dense(32, activation='relu'),\n",
    "    keras.layers.Dense(1, activation='sigmoid')\n",
    "])\n",
    "\n",
    "# 모델 컴파일\n",
    "model.compile(optimizer='adam', loss='binary_crossentropy', metrics=['accuracy'])\n",
    "\n",
    "early_stopping_callback = keras.callbacks.EarlyStopping(monitor='val_loss', patience=5, mode='min', verbose=1)\n",
    "# 모델 학습\n",
    "model.fit(X_train, y_train, epochs=100, batch_size=32, validation_split=0.2, callbacks=[early_stopping_callback])\n",
    "\n",
    "# 모델 평가\n",
    "test_loss, test_acc = model.evaluate(X_test, y_test)\n",
    "print(\"Test accuracy:\", test_acc)"
   ]
  },
  {
   "cell_type": "code",
   "execution_count": 4,
   "id": "d6f2ec21",
   "metadata": {
    "execution": {
     "iopub.execute_input": "2023-08-04T09:05:07.811997Z",
     "iopub.status.busy": "2023-08-04T09:05:07.811501Z",
     "iopub.status.idle": "2023-08-04T09:05:10.345488Z",
     "shell.execute_reply": "2023-08-04T09:05:10.344413Z"
    },
    "papermill": {
     "duration": 2.553413,
     "end_time": "2023-08-04T09:05:10.348559",
     "exception": false,
     "start_time": "2023-08-04T09:05:07.795146",
     "status": "completed"
    },
    "tags": []
   },
   "outputs": [
    {
     "name": "stdout",
     "output_type": "stream",
     "text": [
      "180/180 [==============================] - 0s 2ms/step\n"
     ]
    }
   ],
   "source": [
    "file_path_ = '/kaggle/input/digico-ai/test.csv'\n",
    "df_ = pd.read_csv(file_path_)\n",
    "# print(df_.isnull().sum())\n",
    "\n",
    "df_cleaned_equal_ = df_.drop(columns=columns_to_drop_equal, inplace=False)\n",
    "# print(df_cleaned_equal_)\n",
    "df_cleaned_nan_ = df_cleaned_equal_.drop(columns=columns_to_drop_nan, inplace=False)\n",
    "# print(df_cleaned_nan_)\n",
    "df_filled_ = df_cleaned_nan_.fillna(train_mean)\n",
    "# print(df_filled_)\n",
    "\n",
    "from sklearn.preprocessing import MinMaxScaler\n",
    "from sklearn.preprocessing import StandardScaler\n",
    "\n",
    "input_column_names = df_filled_.columns[0:].tolist()\n",
    "# print(input_column_names)\n",
    "df_filled_ = scaler.transform(df_filled_[input_column_names])\n",
    "# # 학습 데이터에 대해 fit_transform 수행\n",
    "# scaler = StandardScaler()\n",
    "# df_train[columns_to_normalize] = scaler.fit_transform(df_train[columns_to_normalize])\n",
    "\n",
    "# # 예측 데이터에 대해 transform만 수행\n",
    "# df_test[columns_to_normalize] = scaler.transform(df_test[columns_to_normalize])\n",
    "\n",
    "# X_pred = df_filled_.iloc[:,].values\n",
    "# print(X_pred)\n",
    "\n",
    "predictions = model.predict(df_filled_)\n",
    "indexs = list(range(0, len(predictions)))\n",
    "binary_predictions = (predictions > 0.5).astype(int)\n",
    "\n",
    "# print(len(indexs), \" \", len(binary_predictions.ravel()))\n",
    "results = pd.DataFrame({'ID': indexs, 'Target': binary_predictions.ravel()})\n",
    "results.to_csv('prediction_results.csv', index=False)"
   ]
  },
  {
   "cell_type": "code",
   "execution_count": null,
   "id": "31b97d47",
   "metadata": {
    "papermill": {
     "duration": 0.014972,
     "end_time": "2023-08-04T09:05:10.380615",
     "exception": false,
     "start_time": "2023-08-04T09:05:10.365643",
     "status": "completed"
    },
    "tags": []
   },
   "outputs": [],
   "source": []
  }
 ],
 "metadata": {
  "kernelspec": {
   "display_name": "Python 3",
   "language": "python",
   "name": "python3"
  },
  "language_info": {
   "codemirror_mode": {
    "name": "ipython",
    "version": 3
   },
   "file_extension": ".py",
   "mimetype": "text/x-python",
   "name": "python",
   "nbconvert_exporter": "python",
   "pygments_lexer": "ipython3",
   "version": "3.10.12"
  },
  "papermill": {
   "default_parameters": {},
   "duration": 42.858005,
   "end_time": "2023-08-04T09:05:12.946007",
   "environment_variables": {},
   "exception": null,
   "input_path": "__notebook__.ipynb",
   "output_path": "__notebook__.ipynb",
   "parameters": {},
   "start_time": "2023-08-04T09:04:30.088002",
   "version": "2.4.0"
  }
 },
 "nbformat": 4,
 "nbformat_minor": 5
}
